{
 "cells": [
  {
   "cell_type": "markdown",
   "id": "d513c8ad-0e5e-427a-bf6a-72b545aad55f",
   "metadata": {},
   "source": [
    "# Draws static version of mutations versus date scatter plot\n",
    "This notebook uses a locally downloaded version of the [baltic](https://github.com/evogytis/baltic) module that has been manually edited to fix [this bug](https://github.com/evogytis/baltic/issues/38)."
   ]
  },
  {
   "cell_type": "code",
   "execution_count": 1,
   "id": "3732c2ef-fb67-4692-a3f3-ed2264297b64",
   "metadata": {
    "execution": {
     "iopub.execute_input": "2025-05-17T14:17:35.618374Z",
     "iopub.status.busy": "2025-05-17T14:17:35.617768Z",
     "iopub.status.idle": "2025-05-17T14:17:39.104628Z",
     "shell.execute_reply": "2025-05-17T14:17:39.103709Z",
     "shell.execute_reply.started": "2025-05-17T14:17:35.618326Z"
    }
   },
   "outputs": [],
   "source": [
    "import altair as alt\n",
    "\n",
    "import baltic\n",
    "\n",
    "import pandas as pd"
   ]
  },
  {
   "cell_type": "code",
   "execution_count": 2,
   "id": "5d49998f-69cc-4871-b1d1-44dd8dcf29db",
   "metadata": {
    "execution": {
     "iopub.execute_input": "2025-05-17T14:17:39.106430Z",
     "iopub.status.busy": "2025-05-17T14:17:39.105765Z",
     "iopub.status.idle": "2025-05-17T14:17:40.725279Z",
     "shell.execute_reply": "2025-05-17T14:17:40.724693Z",
     "shell.execute_reply.started": "2025-05-17T14:17:39.106394Z"
    }
   },
   "outputs": [
    {
     "name": "stdout",
     "output_type": "stream",
     "text": [
      "\n",
      "Tree height: 0.001510\n",
      "Tree length: 0.077890\n",
      "\n",
      "Numbers of objects in tree: 565 (90 nodes and 475 leaves)\n",
      "\n"
     ]
    },
    {
     "data": {
      "text/html": [
       "\n",
       "<style>\n",
       "  #altair-viz-e700cdb86ac34893b2133c943f7e070e.vega-embed {\n",
       "    width: 100%;\n",
       "    display: flex;\n",
       "  }\n",
       "\n",
       "  #altair-viz-e700cdb86ac34893b2133c943f7e070e.vega-embed details,\n",
       "  #altair-viz-e700cdb86ac34893b2133c943f7e070e.vega-embed details summary {\n",
       "    position: relative;\n",
       "  }\n",
       "</style>\n",
       "<div id=\"altair-viz-e700cdb86ac34893b2133c943f7e070e\"></div>\n",
       "<script type=\"text/javascript\">\n",
       "  var VEGA_DEBUG = (typeof VEGA_DEBUG == \"undefined\") ? {} : VEGA_DEBUG;\n",
       "  (function(spec, embedOpt){\n",
       "    let outputDiv = document.currentScript.previousElementSibling;\n",
       "    if (outputDiv.id !== \"altair-viz-e700cdb86ac34893b2133c943f7e070e\") {\n",
       "      outputDiv = document.getElementById(\"altair-viz-e700cdb86ac34893b2133c943f7e070e\");\n",
       "    }\n",
       "    const paths = {\n",
       "      \"vega\": \"https://cdn.jsdelivr.net/npm/vega@5?noext\",\n",
       "      \"vega-lib\": \"https://cdn.jsdelivr.net/npm/vega-lib?noext\",\n",
       "      \"vega-lite\": \"https://cdn.jsdelivr.net/npm/vega-lite@5.20.1?noext\",\n",
       "      \"vega-embed\": \"https://cdn.jsdelivr.net/npm/vega-embed@6?noext\",\n",
       "    };\n",
       "\n",
       "    function maybeLoadScript(lib, version) {\n",
       "      var key = `${lib.replace(\"-\", \"\")}_version`;\n",
       "      return (VEGA_DEBUG[key] == version) ?\n",
       "        Promise.resolve(paths[lib]) :\n",
       "        new Promise(function(resolve, reject) {\n",
       "          var s = document.createElement('script');\n",
       "          document.getElementsByTagName(\"head\")[0].appendChild(s);\n",
       "          s.async = true;\n",
       "          s.onload = () => {\n",
       "            VEGA_DEBUG[key] = version;\n",
       "            return resolve(paths[lib]);\n",
       "          };\n",
       "          s.onerror = () => reject(`Error loading script: ${paths[lib]}`);\n",
       "          s.src = paths[lib];\n",
       "        });\n",
       "    }\n",
       "\n",
       "    function showError(err) {\n",
       "      outputDiv.innerHTML = `<div class=\"error\" style=\"color:red;\">${err}</div>`;\n",
       "      throw err;\n",
       "    }\n",
       "\n",
       "    function displayChart(vegaEmbed) {\n",
       "      vegaEmbed(outputDiv, spec, embedOpt)\n",
       "        .catch(err => showError(`Javascript Error: ${err.message}<br>This usually means there's a typo in your chart specification. See the javascript console for the full traceback.`));\n",
       "    }\n",
       "\n",
       "    if(typeof define === \"function\" && define.amd) {\n",
       "      requirejs.config({paths});\n",
       "      require([\"vega-embed\"], displayChart, err => showError(`Error loading script: ${err.message}`));\n",
       "    } else {\n",
       "      maybeLoadScript(\"vega\", \"5\")\n",
       "        .then(() => maybeLoadScript(\"vega-lite\", \"5.20.1\"))\n",
       "        .then(() => maybeLoadScript(\"vega-embed\", \"6\"))\n",
       "        .catch(showError)\n",
       "        .then(() => displayChart(vegaEmbed));\n",
       "    }\n",
       "  })({\"config\": {\"view\": {\"continuousWidth\": 300, \"continuousHeight\": 300}, \"axis\": {\"grid\": false}, \"legend\": {\"labelLimit\": 500}}, \"data\": {\"name\": \"data-b793b728660e425cd1fb0dec3c4ee911\"}, \"mark\": {\"type\": \"point\", \"filled\": true, \"opacity\": 0.7, \"stroke\": \"black\", \"strokeWidth\": 0.75}, \"encoding\": {\"color\": {\"field\": \"sequence annotation\", \"type\": \"nominal\"}, \"shape\": {\"field\": \"sequence annotation\", \"scale\": {\"range\": [\"square\", \"diamond\", \"M0.866,-0.5 L0.866,0.5 L0,1 L-0.866,0.5 L-0.866,-0.5 L0,-1 Z\", \"circle\"]}, \"type\": \"nominal\"}, \"size\": {\"field\": \"number of sequences\", \"legend\": {\"values\": [1, 5, 10, 20]}, \"scale\": {\"nice\": false, \"range\": [50, 250], \"zero\": false}, \"type\": \"quantitative\"}, \"x\": {\"axis\": {\"format\": \"%b-%d-%Y\", \"labelAngle\": -90, \"tickCount\": 12}, \"field\": \"collection date\", \"scale\": {\"nice\": false, \"padding\": 9}, \"type\": \"temporal\"}, \"y\": {\"field\": \"mutations from ancestor (recCA)\", \"scale\": {\"nice\": false, \"padding\": 9, \"zero\": false}, \"type\": \"quantitative\"}}, \"height\": 180, \"width\": 300, \"$schema\": \"https://vega.github.io/schema/vega-lite/v5.20.1.json\", \"datasets\": {\"data-b793b728660e425cd1fb0dec3c4ee911\": [{\"mutations from ancestor (recCA)\": 378, \"sequence annotation\": \"other\", \"collection date\": \"2020-01-13T00:00:00\", \"number of sequences\": 1}, {\"mutations from ancestor (recCA)\": 378, \"sequence annotation\": \"other\", \"collection date\": \"2020-01-14T00:00:00\", \"number of sequences\": 1}, {\"mutations from ancestor (recCA)\": 378, \"sequence annotation\": \"other\", \"collection date\": \"2020-01-15T00:00:00\", \"number of sequences\": 2}, {\"mutations from ancestor (recCA)\": 378, \"sequence annotation\": \"other\", \"collection date\": \"2020-01-19T00:00:00\", \"number of sequences\": 1}, {\"mutations from ancestor (recCA)\": 378, \"sequence annotation\": \"other\", \"collection date\": \"2020-01-20T00:00:00\", \"number of sequences\": 1}, {\"mutations from ancestor (recCA)\": 378, \"sequence annotation\": \"other\", \"collection date\": \"2020-01-21T00:00:00\", \"number of sequences\": 2}, {\"mutations from ancestor (recCA)\": 378, \"sequence annotation\": \"other\", \"collection date\": \"2020-01-22T00:00:00\", \"number of sequences\": 1}, {\"mutations from ancestor (recCA)\": 378, \"sequence annotation\": \"other\", \"collection date\": \"2020-01-26T00:00:00\", \"number of sequences\": 2}, {\"mutations from ancestor (recCA)\": 378, \"sequence annotation\": \"other\", \"collection date\": \"2020-01-28T00:00:00\", \"number of sequences\": 1}, {\"mutations from ancestor (recCA)\": 378, \"sequence annotation\": \"other\", \"collection date\": \"2020-01-31T00:00:00\", \"number of sequences\": 1}, {\"mutations from ancestor (recCA)\": 379, \"sequence annotation\": \"other\", \"collection date\": \"2020-01-05T00:00:00\", \"number of sequences\": 1}, {\"mutations from ancestor (recCA)\": 379, \"sequence annotation\": \"other\", \"collection date\": \"2020-01-17T00:00:00\", \"number of sequences\": 1}, {\"mutations from ancestor (recCA)\": 379, \"sequence annotation\": \"other\", \"collection date\": \"2020-01-18T00:00:00\", \"number of sequences\": 1}, {\"mutations from ancestor (recCA)\": 379, \"sequence annotation\": \"other\", \"collection date\": \"2020-01-22T00:00:00\", \"number of sequences\": 5}, {\"mutations from ancestor (recCA)\": 379, \"sequence annotation\": \"other\", \"collection date\": \"2020-01-24T00:00:00\", \"number of sequences\": 3}, {\"mutations from ancestor (recCA)\": 379, \"sequence annotation\": \"other\", \"collection date\": \"2020-01-25T00:00:00\", \"number of sequences\": 3}, {\"mutations from ancestor (recCA)\": 379, \"sequence annotation\": \"other\", \"collection date\": \"2020-01-26T00:00:00\", \"number of sequences\": 4}, {\"mutations from ancestor (recCA)\": 379, \"sequence annotation\": \"other\", \"collection date\": \"2020-01-27T00:00:00\", \"number of sequences\": 5}, {\"mutations from ancestor (recCA)\": 379, \"sequence annotation\": \"other\", \"collection date\": \"2020-01-28T00:00:00\", \"number of sequences\": 4}, {\"mutations from ancestor (recCA)\": 379, \"sequence annotation\": \"other\", \"collection date\": \"2020-01-29T00:00:00\", \"number of sequences\": 3}, {\"mutations from ancestor (recCA)\": 379, \"sequence annotation\": \"other\", \"collection date\": \"2020-01-30T00:00:00\", \"number of sequences\": 7}, {\"mutations from ancestor (recCA)\": 379, \"sequence annotation\": \"other\", \"collection date\": \"2020-01-31T00:00:00\", \"number of sequences\": 4}, {\"mutations from ancestor (recCA)\": 380, \"sequence annotation\": \"2019 non-Huanan Market case (WHO report)\", \"collection date\": \"2019-12-30T00:00:00\", \"number of sequences\": 1}, {\"mutations from ancestor (recCA)\": 380, \"sequence annotation\": \"other\", \"collection date\": \"2020-01-11T00:00:00\", \"number of sequences\": 1}, {\"mutations from ancestor (recCA)\": 380, \"sequence annotation\": \"other\", \"collection date\": \"2020-01-21T00:00:00\", \"number of sequences\": 2}, {\"mutations from ancestor (recCA)\": 380, \"sequence annotation\": \"other\", \"collection date\": \"2020-01-22T00:00:00\", \"number of sequences\": 11}, {\"mutations from ancestor (recCA)\": 380, \"sequence annotation\": \"other\", \"collection date\": \"2020-01-23T00:00:00\", \"number of sequences\": 2}, {\"mutations from ancestor (recCA)\": 380, \"sequence annotation\": \"other\", \"collection date\": \"2020-01-24T00:00:00\", \"number of sequences\": 4}, {\"mutations from ancestor (recCA)\": 380, \"sequence annotation\": \"other\", \"collection date\": \"2020-01-25T00:00:00\", \"number of sequences\": 8}, {\"mutations from ancestor (recCA)\": 380, \"sequence annotation\": \"other\", \"collection date\": \"2020-01-26T00:00:00\", \"number of sequences\": 10}, {\"mutations from ancestor (recCA)\": 380, \"sequence annotation\": \"other\", \"collection date\": \"2020-01-27T00:00:00\", \"number of sequences\": 1}, {\"mutations from ancestor (recCA)\": 380, \"sequence annotation\": \"other\", \"collection date\": \"2020-01-28T00:00:00\", \"number of sequences\": 3}, {\"mutations from ancestor (recCA)\": 380, \"sequence annotation\": \"other\", \"collection date\": \"2020-01-29T00:00:00\", \"number of sequences\": 7}, {\"mutations from ancestor (recCA)\": 380, \"sequence annotation\": \"other\", \"collection date\": \"2020-01-30T00:00:00\", \"number of sequences\": 4}, {\"mutations from ancestor (recCA)\": 380, \"sequence annotation\": \"other\", \"collection date\": \"2020-01-31T00:00:00\", \"number of sequences\": 3}, {\"mutations from ancestor (recCA)\": 381, \"sequence annotation\": \"2019 Huanan Market case (WHO report)\", \"collection date\": \"2019-12-26T00:00:00\", \"number of sequences\": 1}, {\"mutations from ancestor (recCA)\": 381, \"sequence annotation\": \"2019 Huanan Market case (WHO report)\", \"collection date\": \"2019-12-30T00:00:00\", \"number of sequences\": 3}, {\"mutations from ancestor (recCA)\": 381, \"sequence annotation\": \"2019 Huanan Market case (WHO report)\", \"collection date\": \"2020-01-02T00:00:00\", \"number of sequences\": 2}, {\"mutations from ancestor (recCA)\": 381, \"sequence annotation\": \"2020 Huanan Market environment\", \"collection date\": \"2020-01-01T00:00:00\", \"number of sequences\": 4}, {\"mutations from ancestor (recCA)\": 381, \"sequence annotation\": \"other\", \"collection date\": \"2020-01-05T00:00:00\", \"number of sequences\": 1}, {\"mutations from ancestor (recCA)\": 381, \"sequence annotation\": \"other\", \"collection date\": \"2020-01-08T00:00:00\", \"number of sequences\": 3}, {\"mutations from ancestor (recCA)\": 381, \"sequence annotation\": \"other\", \"collection date\": \"2020-01-13T00:00:00\", \"number of sequences\": 2}, {\"mutations from ancestor (recCA)\": 381, \"sequence annotation\": \"other\", \"collection date\": \"2020-01-15T00:00:00\", \"number of sequences\": 2}, {\"mutations from ancestor (recCA)\": 381, \"sequence annotation\": \"other\", \"collection date\": \"2020-01-16T00:00:00\", \"number of sequences\": 1}, {\"mutations from ancestor (recCA)\": 381, \"sequence annotation\": \"other\", \"collection date\": \"2020-01-17T00:00:00\", \"number of sequences\": 2}, {\"mutations from ancestor (recCA)\": 381, \"sequence annotation\": \"other\", \"collection date\": \"2020-01-18T00:00:00\", \"number of sequences\": 2}, {\"mutations from ancestor (recCA)\": 381, \"sequence annotation\": \"other\", \"collection date\": \"2020-01-19T00:00:00\", \"number of sequences\": 2}, {\"mutations from ancestor (recCA)\": 381, \"sequence annotation\": \"other\", \"collection date\": \"2020-01-20T00:00:00\", \"number of sequences\": 1}, {\"mutations from ancestor (recCA)\": 381, \"sequence annotation\": \"other\", \"collection date\": \"2020-01-21T00:00:00\", \"number of sequences\": 13}, {\"mutations from ancestor (recCA)\": 381, \"sequence annotation\": \"other\", \"collection date\": \"2020-01-22T00:00:00\", \"number of sequences\": 8}, {\"mutations from ancestor (recCA)\": 381, \"sequence annotation\": \"other\", \"collection date\": \"2020-01-23T00:00:00\", \"number of sequences\": 12}, {\"mutations from ancestor (recCA)\": 381, \"sequence annotation\": \"other\", \"collection date\": \"2020-01-24T00:00:00\", \"number of sequences\": 5}, {\"mutations from ancestor (recCA)\": 381, \"sequence annotation\": \"other\", \"collection date\": \"2020-01-25T00:00:00\", \"number of sequences\": 14}, {\"mutations from ancestor (recCA)\": 381, \"sequence annotation\": \"other\", \"collection date\": \"2020-01-26T00:00:00\", \"number of sequences\": 9}, {\"mutations from ancestor (recCA)\": 381, \"sequence annotation\": \"other\", \"collection date\": \"2020-01-27T00:00:00\", \"number of sequences\": 6}, {\"mutations from ancestor (recCA)\": 381, \"sequence annotation\": \"other\", \"collection date\": \"2020-01-28T00:00:00\", \"number of sequences\": 5}, {\"mutations from ancestor (recCA)\": 381, \"sequence annotation\": \"other\", \"collection date\": \"2020-01-29T00:00:00\", \"number of sequences\": 6}, {\"mutations from ancestor (recCA)\": 381, \"sequence annotation\": \"other\", \"collection date\": \"2020-01-30T00:00:00\", \"number of sequences\": 8}, {\"mutations from ancestor (recCA)\": 381, \"sequence annotation\": \"other\", \"collection date\": \"2020-01-31T00:00:00\", \"number of sequences\": 7}, {\"mutations from ancestor (recCA)\": 382, \"sequence annotation\": \"2019 Huanan Market case (WHO report)\", \"collection date\": \"2019-12-30T00:00:00\", \"number of sequences\": 4}, {\"mutations from ancestor (recCA)\": 382, \"sequence annotation\": \"2019 Huanan Market case (WHO report)\", \"collection date\": \"2020-01-01T00:00:00\", \"number of sequences\": 1}, {\"mutations from ancestor (recCA)\": 382, \"sequence annotation\": \"other\", \"collection date\": \"2020-01-03T00:00:00\", \"number of sequences\": 1}, {\"mutations from ancestor (recCA)\": 382, \"sequence annotation\": \"other\", \"collection date\": \"2020-01-11T00:00:00\", \"number of sequences\": 2}, {\"mutations from ancestor (recCA)\": 382, \"sequence annotation\": \"other\", \"collection date\": \"2020-01-13T00:00:00\", \"number of sequences\": 1}, {\"mutations from ancestor (recCA)\": 382, \"sequence annotation\": \"other\", \"collection date\": \"2020-01-16T00:00:00\", \"number of sequences\": 1}, {\"mutations from ancestor (recCA)\": 382, \"sequence annotation\": \"other\", \"collection date\": \"2020-01-17T00:00:00\", \"number of sequences\": 2}, {\"mutations from ancestor (recCA)\": 382, \"sequence annotation\": \"other\", \"collection date\": \"2020-01-18T00:00:00\", \"number of sequences\": 1}, {\"mutations from ancestor (recCA)\": 382, \"sequence annotation\": \"other\", \"collection date\": \"2020-01-20T00:00:00\", \"number of sequences\": 2}, {\"mutations from ancestor (recCA)\": 382, \"sequence annotation\": \"other\", \"collection date\": \"2020-01-21T00:00:00\", \"number of sequences\": 1}, {\"mutations from ancestor (recCA)\": 382, \"sequence annotation\": \"other\", \"collection date\": \"2020-01-22T00:00:00\", \"number of sequences\": 5}, {\"mutations from ancestor (recCA)\": 382, \"sequence annotation\": \"other\", \"collection date\": \"2020-01-23T00:00:00\", \"number of sequences\": 7}, {\"mutations from ancestor (recCA)\": 382, \"sequence annotation\": \"other\", \"collection date\": \"2020-01-24T00:00:00\", \"number of sequences\": 6}, {\"mutations from ancestor (recCA)\": 382, \"sequence annotation\": \"other\", \"collection date\": \"2020-01-25T00:00:00\", \"number of sequences\": 15}, {\"mutations from ancestor (recCA)\": 382, \"sequence annotation\": \"other\", \"collection date\": \"2020-01-26T00:00:00\", \"number of sequences\": 8}, {\"mutations from ancestor (recCA)\": 382, \"sequence annotation\": \"other\", \"collection date\": \"2020-01-27T00:00:00\", \"number of sequences\": 8}, {\"mutations from ancestor (recCA)\": 382, \"sequence annotation\": \"other\", \"collection date\": \"2020-01-28T00:00:00\", \"number of sequences\": 4}, {\"mutations from ancestor (recCA)\": 382, \"sequence annotation\": \"other\", \"collection date\": \"2020-01-29T00:00:00\", \"number of sequences\": 20}, {\"mutations from ancestor (recCA)\": 382, \"sequence annotation\": \"other\", \"collection date\": \"2020-01-30T00:00:00\", \"number of sequences\": 11}, {\"mutations from ancestor (recCA)\": 382, \"sequence annotation\": \"other\", \"collection date\": \"2020-01-31T00:00:00\", \"number of sequences\": 3}, {\"mutations from ancestor (recCA)\": 383, \"sequence annotation\": \"2019 Huanan Market case (WHO report)\", \"collection date\": \"2019-12-24T00:00:00\", \"number of sequences\": 1}, {\"mutations from ancestor (recCA)\": 383, \"sequence annotation\": \"2019 Huanan Market case (WHO report)\", \"collection date\": \"2019-12-26T00:00:00\", \"number of sequences\": 1}, {\"mutations from ancestor (recCA)\": 383, \"sequence annotation\": \"other\", \"collection date\": \"2020-01-15T00:00:00\", \"number of sequences\": 1}, {\"mutations from ancestor (recCA)\": 383, \"sequence annotation\": \"other\", \"collection date\": \"2020-01-16T00:00:00\", \"number of sequences\": 1}, {\"mutations from ancestor (recCA)\": 383, \"sequence annotation\": \"other\", \"collection date\": \"2020-01-20T00:00:00\", \"number of sequences\": 1}, {\"mutations from ancestor (recCA)\": 383, \"sequence annotation\": \"other\", \"collection date\": \"2020-01-21T00:00:00\", \"number of sequences\": 3}, {\"mutations from ancestor (recCA)\": 383, \"sequence annotation\": \"other\", \"collection date\": \"2020-01-22T00:00:00\", \"number of sequences\": 6}, {\"mutations from ancestor (recCA)\": 383, \"sequence annotation\": \"other\", \"collection date\": \"2020-01-23T00:00:00\", \"number of sequences\": 3}, {\"mutations from ancestor (recCA)\": 383, \"sequence annotation\": \"other\", \"collection date\": \"2020-01-24T00:00:00\", \"number of sequences\": 6}, {\"mutations from ancestor (recCA)\": 383, \"sequence annotation\": \"other\", \"collection date\": \"2020-01-25T00:00:00\", \"number of sequences\": 7}, {\"mutations from ancestor (recCA)\": 383, \"sequence annotation\": \"other\", \"collection date\": \"2020-01-26T00:00:00\", \"number of sequences\": 5}, {\"mutations from ancestor (recCA)\": 383, \"sequence annotation\": \"other\", \"collection date\": \"2020-01-27T00:00:00\", \"number of sequences\": 5}, {\"mutations from ancestor (recCA)\": 383, \"sequence annotation\": \"other\", \"collection date\": \"2020-01-28T00:00:00\", \"number of sequences\": 7}, {\"mutations from ancestor (recCA)\": 383, \"sequence annotation\": \"other\", \"collection date\": \"2020-01-29T00:00:00\", \"number of sequences\": 7}, {\"mutations from ancestor (recCA)\": 383, \"sequence annotation\": \"other\", \"collection date\": \"2020-01-30T00:00:00\", \"number of sequences\": 6}, {\"mutations from ancestor (recCA)\": 383, \"sequence annotation\": \"other\", \"collection date\": \"2020-01-31T00:00:00\", \"number of sequences\": 9}, {\"mutations from ancestor (recCA)\": 384, \"sequence annotation\": \"other\", \"collection date\": \"2020-01-18T00:00:00\", \"number of sequences\": 1}, {\"mutations from ancestor (recCA)\": 384, \"sequence annotation\": \"other\", \"collection date\": \"2020-01-20T00:00:00\", \"number of sequences\": 1}, {\"mutations from ancestor (recCA)\": 384, \"sequence annotation\": \"other\", \"collection date\": \"2020-01-21T00:00:00\", \"number of sequences\": 1}, {\"mutations from ancestor (recCA)\": 384, \"sequence annotation\": \"other\", \"collection date\": \"2020-01-23T00:00:00\", \"number of sequences\": 3}, {\"mutations from ancestor (recCA)\": 384, \"sequence annotation\": \"other\", \"collection date\": \"2020-01-24T00:00:00\", \"number of sequences\": 5}, {\"mutations from ancestor (recCA)\": 384, \"sequence annotation\": \"other\", \"collection date\": \"2020-01-25T00:00:00\", \"number of sequences\": 5}, {\"mutations from ancestor (recCA)\": 384, \"sequence annotation\": \"other\", \"collection date\": \"2020-01-26T00:00:00\", \"number of sequences\": 4}, {\"mutations from ancestor (recCA)\": 384, \"sequence annotation\": \"other\", \"collection date\": \"2020-01-27T00:00:00\", \"number of sequences\": 5}, {\"mutations from ancestor (recCA)\": 384, \"sequence annotation\": \"other\", \"collection date\": \"2020-01-28T00:00:00\", \"number of sequences\": 4}, {\"mutations from ancestor (recCA)\": 384, \"sequence annotation\": \"other\", \"collection date\": \"2020-01-29T00:00:00\", \"number of sequences\": 7}, {\"mutations from ancestor (recCA)\": 384, \"sequence annotation\": \"other\", \"collection date\": \"2020-01-30T00:00:00\", \"number of sequences\": 4}, {\"mutations from ancestor (recCA)\": 384, \"sequence annotation\": \"other\", \"collection date\": \"2020-01-31T00:00:00\", \"number of sequences\": 3}, {\"mutations from ancestor (recCA)\": 385, \"sequence annotation\": \"other\", \"collection date\": \"2020-01-10T00:00:00\", \"number of sequences\": 1}, {\"mutations from ancestor (recCA)\": 385, \"sequence annotation\": \"other\", \"collection date\": \"2020-01-24T00:00:00\", \"number of sequences\": 3}, {\"mutations from ancestor (recCA)\": 385, \"sequence annotation\": \"other\", \"collection date\": \"2020-01-25T00:00:00\", \"number of sequences\": 2}, {\"mutations from ancestor (recCA)\": 385, \"sequence annotation\": \"other\", \"collection date\": \"2020-01-26T00:00:00\", \"number of sequences\": 1}, {\"mutations from ancestor (recCA)\": 385, \"sequence annotation\": \"other\", \"collection date\": \"2020-01-27T00:00:00\", \"number of sequences\": 2}, {\"mutations from ancestor (recCA)\": 385, \"sequence annotation\": \"other\", \"collection date\": \"2020-01-28T00:00:00\", \"number of sequences\": 2}, {\"mutations from ancestor (recCA)\": 385, \"sequence annotation\": \"other\", \"collection date\": \"2020-01-29T00:00:00\", \"number of sequences\": 5}, {\"mutations from ancestor (recCA)\": 385, \"sequence annotation\": \"other\", \"collection date\": \"2020-01-30T00:00:00\", \"number of sequences\": 3}, {\"mutations from ancestor (recCA)\": 385, \"sequence annotation\": \"other\", \"collection date\": \"2020-01-31T00:00:00\", \"number of sequences\": 2}, {\"mutations from ancestor (recCA)\": 386, \"sequence annotation\": \"other\", \"collection date\": \"2020-01-08T00:00:00\", \"number of sequences\": 1}, {\"mutations from ancestor (recCA)\": 386, \"sequence annotation\": \"other\", \"collection date\": \"2020-01-19T00:00:00\", \"number of sequences\": 1}, {\"mutations from ancestor (recCA)\": 386, \"sequence annotation\": \"other\", \"collection date\": \"2020-01-23T00:00:00\", \"number of sequences\": 1}, {\"mutations from ancestor (recCA)\": 386, \"sequence annotation\": \"other\", \"collection date\": \"2020-01-25T00:00:00\", \"number of sequences\": 1}, {\"mutations from ancestor (recCA)\": 386, \"sequence annotation\": \"other\", \"collection date\": \"2020-01-30T00:00:00\", \"number of sequences\": 1}, {\"mutations from ancestor (recCA)\": 386, \"sequence annotation\": \"other\", \"collection date\": \"2020-01-31T00:00:00\", \"number of sequences\": 1}, {\"mutations from ancestor (recCA)\": 387, \"sequence annotation\": \"other\", \"collection date\": \"2020-01-28T00:00:00\", \"number of sequences\": 2}, {\"mutations from ancestor (recCA)\": 387, \"sequence annotation\": \"other\", \"collection date\": \"2020-01-30T00:00:00\", \"number of sequences\": 1}]}}, {\"mode\": \"vega-lite\"});\n",
       "</script>"
      ],
      "text/plain": [
       "alt.Chart(...)"
      ]
     },
     "execution_count": 2,
     "metadata": {},
     "output_type": "execute_result"
    }
   ],
   "source": [
    "# Read tree\n",
    "tree_json = \"../auspice/early-SARS2-trees_crits-christoph2024-Jan-31-2020-lineage-A-C29095T-colormuts.json\"\n",
    "tree = baltic.loadJSON(tree_json, json_translation={\"name\": \"name\", \"length\": \"divergence\"})[0]\n",
    "\n",
    "# get data frame with relevant node attributes\n",
    "attributes = {\n",
    "    \"name\": \"name\",\n",
    "    \"mutations_from_recCA\": \"mutations from ancestor (recCA)\",\n",
    "    \"addtl_annotations\": \"sequence annotation\",\n",
    "    \"date\": \"collection date\",\n",
    "}\n",
    "records = []\n",
    "for node in tree.getExternal():\n",
    "    assert node.is_leaf()\n",
    "    records.append([node.traits[attr] for attr in attributes])\n",
    "df = (\n",
    "    pd.DataFrame(records, columns=list(attributes))\n",
    "    .assign(\n",
    "        date=lambda x: pd.to_datetime(x[\"date\"]),\n",
    "        addtl_annotations=lambda x: x[\"addtl_annotations\"].map(\n",
    "            {\n",
    "                \"other\": \"other\",\n",
    "                \"2020 market environment\": \"2020 Huanan Market environment\",\n",
    "                \"2019 market sequence\": \"2019 Huanan Market case (WHO report)\",\n",
    "                \"2019 non-market sequence\": \"2019 non-Huanan Market case (WHO report)\",\n",
    "            }\n",
    "        )\n",
    "    )\n",
    "    .rename(columns=attributes)\n",
    "    .groupby([attr for attr in attributes.values() if attr != \"name\"], as_index=False)\n",
    "    .aggregate(**{\"number of sequences\": pd.NamedAgg(\"name\", \"count\")})\n",
    ")\n",
    "\n",
    "# make chart\n",
    "hexagon = \"M0.866,-0.5 L0.866,0.5 L0,1 L-0.866,0.5 L-0.866,-0.5 L0,-1 Z\"\n",
    "chart = (\n",
    "    alt.Chart(df)\n",
    "    .encode(\n",
    "        alt.X(\n",
    "            \"collection date\",\n",
    "            scale=alt.Scale(nice=False, padding=9),\n",
    "            axis=alt.Axis(\n",
    "                format='%b-%d-%Y',   # Dec-29-2020\n",
    "                labelAngle=-90,        # rotate vertical\n",
    "                tickCount=12,\n",
    "            ),\n",
    "        ),\n",
    "        alt.Y(\n",
    "            \"mutations from ancestor (recCA)\",\n",
    "            scale=alt.Scale(zero=False, nice=False, padding=9),\n",
    "        ),\n",
    "        alt.Color(\"sequence annotation\"),\n",
    "        alt.Shape(\n",
    "            \"sequence annotation\",\n",
    "            scale=alt.Scale(range=[\"square\", \"diamond\", hexagon, \"circle\"])\n",
    "        ),\n",
    "        alt.Size(\n",
    "            \"number of sequences\",\n",
    "            scale=alt.Scale(nice=False, zero=False, range=[50, 250]),\n",
    "            legend=alt.Legend(values=[1, 5, 10, 20]),\n",
    "        ),\n",
    "    )\n",
    "    .mark_point(filled=True, opacity=0.7, stroke=\"black\", strokeWidth=0.75)\n",
    "    .configure_axis(grid=False)\n",
    "    .configure_legend(labelLimit=500)\n",
    "    .properties(width=300, height=180)\n",
    ")\n",
    "\n",
    "chart.save(\"scatter.pdf\")\n",
    "\n",
    "chart"
   ]
  },
  {
   "cell_type": "code",
   "execution_count": null,
   "id": "140252d3-e718-488c-a94e-f6cb1236283e",
   "metadata": {},
   "outputs": [],
   "source": []
  }
 ],
 "metadata": {
  "kernelspec": {
   "display_name": "Python 3 (ipykernel)",
   "language": "python",
   "name": "python3"
  },
  "language_info": {
   "codemirror_mode": {
    "name": "ipython",
    "version": 3
   },
   "file_extension": ".py",
   "mimetype": "text/x-python",
   "name": "python",
   "nbconvert_exporter": "python",
   "pygments_lexer": "ipython3",
   "version": "3.12.7"
  }
 },
 "nbformat": 4,
 "nbformat_minor": 5
}
